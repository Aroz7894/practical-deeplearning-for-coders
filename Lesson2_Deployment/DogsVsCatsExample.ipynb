{
 "cells": [
  {
   "cell_type": "code",
   "execution_count": 2,
   "id": "c0da79ab",
   "metadata": {},
   "outputs": [
    {
     "name": "stdout",
     "output_type": "stream",
     "text": [
      "Defaulting to user installation because normal site-packages is not writeable\n",
      "Requirement already satisfied: fastai in c:\\users\\andrew roz\\appdata\\roaming\\python\\python310\\site-packages (2.7.9)\n",
      "Requirement already satisfied: requests in c:\\users\\andrew roz\\appdata\\roaming\\python\\python310\\site-packages (from fastai) (2.28.1)\n",
      "Requirement already satisfied: scikit-learn in c:\\users\\andrew roz\\appdata\\roaming\\python\\python310\\site-packages (from fastai) (1.1.2)\n",
      "Requirement already satisfied: fastdownload<2,>=0.0.5 in c:\\users\\andrew roz\\appdata\\roaming\\python\\python310\\site-packages (from fastai) (0.0.7)\n",
      "Requirement already satisfied: pip in c:\\program files\\python310\\lib\\site-packages (from fastai) (22.2.2)\n",
      "Requirement already satisfied: fastcore<1.6,>=1.4.5 in c:\\users\\andrew roz\\appdata\\roaming\\python\\python310\\site-packages (from fastai) (1.5.27)\n",
      "Requirement already satisfied: fastprogress>=0.2.4 in c:\\users\\andrew roz\\appdata\\roaming\\python\\python310\\site-packages (from fastai) (1.0.3)\n",
      "Requirement already satisfied: pyyaml in c:\\users\\andrew roz\\appdata\\roaming\\python\\python310\\site-packages (from fastai) (6.0)\n",
      "Requirement already satisfied: scipy in c:\\users\\andrew roz\\appdata\\roaming\\python\\python310\\site-packages (from fastai) (1.9.1)\n",
      "Requirement already satisfied: spacy<4 in c:\\users\\andrew roz\\appdata\\roaming\\python\\python310\\site-packages (from fastai) (3.4.1)\n",
      "Requirement already satisfied: torch<1.14,>=1.7 in c:\\users\\andrew roz\\appdata\\roaming\\python\\python310\\site-packages (from fastai) (1.12.1)\n",
      "Requirement already satisfied: pillow>6.0.0 in c:\\users\\andrew roz\\appdata\\roaming\\python\\python310\\site-packages (from fastai) (9.2.0)\n",
      "Requirement already satisfied: matplotlib in c:\\users\\andrew roz\\appdata\\roaming\\python\\python310\\site-packages (from fastai) (3.6.0)\n",
      "Requirement already satisfied: packaging in c:\\users\\andrew roz\\appdata\\roaming\\python\\python310\\site-packages (from fastai) (21.3)\n",
      "Requirement already satisfied: pandas in c:\\users\\andrew roz\\appdata\\roaming\\python\\python310\\site-packages (from fastai) (1.5.0)\n",
      "Requirement already satisfied: torchvision>=0.8.2 in c:\\users\\andrew roz\\appdata\\roaming\\python\\python310\\site-packages (from fastai) (0.13.1)\n",
      "Requirement already satisfied: numpy>=1.15.0 in c:\\users\\andrew roz\\appdata\\roaming\\python\\python310\\site-packages (from spacy<4->fastai) (1.23.3)\n",
      "Requirement already satisfied: preshed<3.1.0,>=3.0.2 in c:\\users\\andrew roz\\appdata\\roaming\\python\\python310\\site-packages (from spacy<4->fastai) (3.0.7)\n",
      "Requirement already satisfied: catalogue<2.1.0,>=2.0.6 in c:\\users\\andrew roz\\appdata\\roaming\\python\\python310\\site-packages (from spacy<4->fastai) (2.0.8)\n",
      "Requirement already satisfied: langcodes<4.0.0,>=3.2.0 in c:\\users\\andrew roz\\appdata\\roaming\\python\\python310\\site-packages (from spacy<4->fastai) (3.3.0)\n",
      "Requirement already satisfied: spacy-loggers<2.0.0,>=1.0.0 in c:\\users\\andrew roz\\appdata\\roaming\\python\\python310\\site-packages (from spacy<4->fastai) (1.0.3)\n",
      "Requirement already satisfied: setuptools in c:\\program files\\python310\\lib\\site-packages (from spacy<4->fastai) (63.2.0)\n",
      "Requirement already satisfied: tqdm<5.0.0,>=4.38.0 in c:\\users\\andrew roz\\appdata\\roaming\\python\\python310\\site-packages (from spacy<4->fastai) (4.64.1)\n",
      "Requirement already satisfied: jinja2 in c:\\users\\andrew roz\\appdata\\roaming\\python\\python310\\site-packages (from spacy<4->fastai) (3.1.2)\n",
      "Requirement already satisfied: wasabi<1.1.0,>=0.9.1 in c:\\users\\andrew roz\\appdata\\roaming\\python\\python310\\site-packages (from spacy<4->fastai) (0.10.1)\n",
      "Requirement already satisfied: srsly<3.0.0,>=2.4.3 in c:\\users\\andrew roz\\appdata\\roaming\\python\\python310\\site-packages (from spacy<4->fastai) (2.4.4)\n",
      "Requirement already satisfied: typer<0.5.0,>=0.3.0 in c:\\users\\andrew roz\\appdata\\roaming\\python\\python310\\site-packages (from spacy<4->fastai) (0.4.2)\n",
      "Requirement already satisfied: thinc<8.2.0,>=8.1.0 in c:\\users\\andrew roz\\appdata\\roaming\\python\\python310\\site-packages (from spacy<4->fastai) (8.1.1)\n",
      "Requirement already satisfied: pathy>=0.3.5 in c:\\users\\andrew roz\\appdata\\roaming\\python\\python310\\site-packages (from spacy<4->fastai) (0.6.2)\n",
      "Requirement already satisfied: pydantic!=1.8,!=1.8.1,<1.10.0,>=1.7.4 in c:\\users\\andrew roz\\appdata\\roaming\\python\\python310\\site-packages (from spacy<4->fastai) (1.9.2)\n",
      "Requirement already satisfied: cymem<2.1.0,>=2.0.2 in c:\\users\\andrew roz\\appdata\\roaming\\python\\python310\\site-packages (from spacy<4->fastai) (2.0.6)\n",
      "Requirement already satisfied: murmurhash<1.1.0,>=0.28.0 in c:\\users\\andrew roz\\appdata\\roaming\\python\\python310\\site-packages (from spacy<4->fastai) (1.0.8)\n",
      "Requirement already satisfied: spacy-legacy<3.1.0,>=3.0.9 in c:\\users\\andrew roz\\appdata\\roaming\\python\\python310\\site-packages (from spacy<4->fastai) (3.0.10)\n",
      "Requirement already satisfied: pyparsing!=3.0.5,>=2.0.2 in c:\\users\\andrew roz\\appdata\\roaming\\python\\python310\\site-packages (from packaging->fastai) (3.0.9)\n",
      "Requirement already satisfied: charset-normalizer<3,>=2 in c:\\users\\andrew roz\\appdata\\roaming\\python\\python310\\site-packages (from requests->fastai) (2.1.1)\n",
      "Requirement already satisfied: urllib3<1.27,>=1.21.1 in c:\\users\\andrew roz\\appdata\\roaming\\python\\python310\\site-packages (from requests->fastai) (1.26.12)\n",
      "Requirement already satisfied: idna<4,>=2.5 in c:\\users\\andrew roz\\appdata\\roaming\\python\\python310\\site-packages (from requests->fastai) (3.4)\n",
      "Requirement already satisfied: certifi>=2017.4.17 in c:\\users\\andrew roz\\appdata\\roaming\\python\\python310\\site-packages (from requests->fastai) (2022.9.14)\n",
      "Requirement already satisfied: typing-extensions in c:\\users\\andrew roz\\appdata\\roaming\\python\\python310\\site-packages (from torch<1.14,>=1.7->fastai) (4.3.0)\n",
      "Requirement already satisfied: fonttools>=4.22.0 in c:\\users\\andrew roz\\appdata\\roaming\\python\\python310\\site-packages (from matplotlib->fastai) (4.37.3)\n",
      "Requirement already satisfied: python-dateutil>=2.7 in c:\\users\\andrew roz\\appdata\\roaming\\python\\python310\\site-packages (from matplotlib->fastai) (2.8.2)\n",
      "Requirement already satisfied: contourpy>=1.0.1 in c:\\users\\andrew roz\\appdata\\roaming\\python\\python310\\site-packages (from matplotlib->fastai) (1.0.5)\n",
      "Requirement already satisfied: cycler>=0.10 in c:\\users\\andrew roz\\appdata\\roaming\\python\\python310\\site-packages (from matplotlib->fastai) (0.11.0)\n",
      "Requirement already satisfied: kiwisolver>=1.0.1 in c:\\users\\andrew roz\\appdata\\roaming\\python\\python310\\site-packages (from matplotlib->fastai) (1.4.4)\n",
      "Requirement already satisfied: pytz>=2020.1 in c:\\users\\andrew roz\\appdata\\roaming\\python\\python310\\site-packages (from pandas->fastai) (2022.2.1)\n",
      "Requirement already satisfied: threadpoolctl>=2.0.0 in c:\\users\\andrew roz\\appdata\\roaming\\python\\python310\\site-packages (from scikit-learn->fastai) (3.1.0)\n",
      "Requirement already satisfied: joblib>=1.0.0 in c:\\users\\andrew roz\\appdata\\roaming\\python\\python310\\site-packages (from scikit-learn->fastai) (1.2.0)\n",
      "Requirement already satisfied: smart-open<6.0.0,>=5.2.1 in c:\\users\\andrew roz\\appdata\\roaming\\python\\python310\\site-packages (from pathy>=0.3.5->spacy<4->fastai) (5.2.1)\n",
      "Requirement already satisfied: six>=1.5 in c:\\users\\andrew roz\\appdata\\roaming\\python\\python310\\site-packages (from python-dateutil>=2.7->matplotlib->fastai) (1.16.0)\n",
      "Requirement already satisfied: confection<1.0.0,>=0.0.1 in c:\\users\\andrew roz\\appdata\\roaming\\python\\python310\\site-packages (from thinc<8.2.0,>=8.1.0->spacy<4->fastai) (0.0.1)\n",
      "Requirement already satisfied: blis<0.10.0,>=0.7.8 in c:\\users\\andrew roz\\appdata\\roaming\\python\\python310\\site-packages (from thinc<8.2.0,>=8.1.0->spacy<4->fastai) (0.9.1)\n",
      "Requirement already satisfied: colorama in c:\\users\\andrew roz\\appdata\\roaming\\python\\python310\\site-packages (from tqdm<5.0.0,>=4.38.0->spacy<4->fastai) (0.4.5)\n",
      "Requirement already satisfied: click<9.0.0,>=7.1.1 in c:\\users\\andrew roz\\appdata\\roaming\\python\\python310\\site-packages (from typer<0.5.0,>=0.3.0->spacy<4->fastai) (8.1.3)\n",
      "Requirement already satisfied: MarkupSafe>=2.0 in c:\\users\\andrew roz\\appdata\\roaming\\python\\python310\\site-packages (from jinja2->spacy<4->fastai) (2.1.1)\n",
      "Note: you may need to restart the kernel to use updated packages.\n"
     ]
    }
   ],
   "source": [
    "pip install fastai\n",
    "pip install gradio"
   ]
  },
  {
   "cell_type": "code",
   "execution_count": 6,
   "id": "eba1e957",
   "metadata": {},
   "outputs": [],
   "source": [
    "|export\n",
    "from fastai.vision.all import *\n",
    "import gradio as gr\n",
    "import pathlib\n",
    "temp = pathlib.PosixPath\n",
    "pathlib.PosixPath = pathlib.WindowsPath\n",
    "\n",
    "def is_cat(x): return x[0].isupper()"
   ]
  },
  {
   "cell_type": "code",
   "execution_count": 10,
   "id": "ec0f6b61",
   "metadata": {},
   "outputs": [],
   "source": [
    "|export\n",
    "learn = load_learner('model.pkl')"
   ]
  },
  {
   "cell_type": "code",
   "execution_count": 11,
   "id": "987e41b2",
   "metadata": {},
   "outputs": [
    {
     "data": {
      "image/png": "[encoded data removed]",
      "text/plain": [
       "PILImage mode=RGB size=192x108"
      ]
     },
     "execution_count": 11,
     "metadata": {},
     "output_type": "execute_result"
    }
   ],
   "source": [
    "im = PILImage.create('dog.jpg')\n",
    "im.thumbnail((192,192))\n",
    "im"
   ]
  },
  {
   "cell_type": "code",
   "execution_count": 12,
   "id": "bf7d5a02",
   "metadata": {},
   "outputs": [
    {
     "data": {
      "text/html": [
       "\n",
       "<style>\n",
       "    /* Turns off some styling */\n",
       "    progress {\n",
       "        /* gets rid of default border in Firefox and Opera. */\n",
       "        border: none;\n",
       "        /* Needs to be in here for Safari polyfill so background images work as expected. */\n",
       "        background-size: auto;\n",
       "    }\n",
       "    progress:not([value]), progress:not([value])::-webkit-progress-bar {\n",
       "        background: repeating-linear-gradient(45deg, #7e7e7e, #7e7e7e 10px, #5c5c5c 10px, #5c5c5c 20px);\n",
       "    }\n",
       "    .progress-bar-interrupted, .progress-bar-interrupted::-webkit-progress-bar {\n",
       "        background: #F44336;\n",
       "    }\n",
       "</style>\n"
      ],
      "text/plain": [
       "<IPython.core.display.HTML object>"
      ]
     },
     "metadata": {},
     "output_type": "display_data"
    },
    {
     "data": {
      "text/html": [],
      "text/plain": [
       "<IPython.core.display.HTML object>"
      ]
     },
     "metadata": {},
     "output_type": "display_data"
    },
    {
     "data": {
      "text/plain": [
       "('False', TensorBase(0), TensorBase([1.0000e+00, 8.4562e-08]))"
      ]
     },
     "execution_count": 12,
     "metadata": {},
     "output_type": "execute_result"
    }
   ],
   "source": [
    "learn.predict(im)"
   ]
  },
  {
   "cell_type": "code",
   "execution_count": 14,
   "id": "365678fd",
   "metadata": {},
   "outputs": [],
   "source": [
    "|export\n",
    "categories = ('Dog', 'Cat')\n",
    "\n",
    "def classify_image(img):\n",
    "    pred, idx, probs = learn.predict(img)\n",
    "    return dict(zip(categories, map(float,probs)))"
   ]
  },
  {
   "cell_type": "code",
   "execution_count": 15,
   "id": "5f22870b",
   "metadata": {},
   "outputs": [
    {
     "data": {
      "text/html": [
       "\n",
       "<style>\n",
       "    /* Turns off some styling */\n",
       "    progress {\n",
       "        /* gets rid of default border in Firefox and Opera. */\n",
       "        border: none;\n",
       "        /* Needs to be in here for Safari polyfill so background images work as expected. */\n",
       "        background-size: auto;\n",
       "    }\n",
       "    progress:not([value]), progress:not([value])::-webkit-progress-bar {\n",
       "        background: repeating-linear-gradient(45deg, #7e7e7e, #7e7e7e 10px, #5c5c5c 10px, #5c5c5c 20px);\n",
       "    }\n",
       "    .progress-bar-interrupted, .progress-bar-interrupted::-webkit-progress-bar {\n",
       "        background: #F44336;\n",
       "    }\n",
       "</style>\n"
      ],
      "text/plain": [
       "<IPython.core.display.HTML object>"
      ]
     },
     "metadata": {},
     "output_type": "display_data"
    },
    {
     "data": {
      "text/html": [],
      "text/plain": [
       "<IPython.core.display.HTML object>"
      ]
     },
     "metadata": {},
     "output_type": "display_data"
    },
    {
     "data": {
      "text/plain": [
       "{'Dog': 0.9999998807907104, 'Cat': 8.456190414563025e-08}"
      ]
     },
     "execution_count": 15,
     "metadata": {},
     "output_type": "execute_result"
    }
   ],
   "source": [
    "classify_image(im)"
   ]
  },
  {
   "cell_type": "code",
   "execution_count": 19,
   "id": "24b8c0fc",
   "metadata": {},
   "outputs": [
    {
     "name": "stderr",
     "output_type": "stream",
     "text": [
      "C:\\Users\\Andrew Roz\\AppData\\Roaming\\Python\\Python310\\site-packages\\gradio\\inputs.py:256: UserWarning: Usage of gradio.inputs is deprecated, and will not be supported in the future, please import your component from gradio.components\n",
      "  warnings.warn(\n",
      "C:\\Users\\Andrew Roz\\AppData\\Roaming\\Python\\Python310\\site-packages\\gradio\\deprecation.py:40: UserWarning: `optional` parameter is deprecated, and it has no effect\n",
      "  warnings.warn(value)\n",
      "C:\\Users\\Andrew Roz\\AppData\\Roaming\\Python\\Python310\\site-packages\\gradio\\outputs.py:196: UserWarning: Usage of gradio.outputs is deprecated, and will not be supported in the future, please import your components from gradio.components\n",
      "  warnings.warn(\n",
      "C:\\Users\\Andrew Roz\\AppData\\Roaming\\Python\\Python310\\site-packages\\gradio\\deprecation.py:40: UserWarning: The 'type' parameter has been deprecated. Use the Number component instead.\n",
      "  warnings.warn(value)\n"
     ]
    }
   ],
   "source": [
    "|export\n",
    "image = gr.inputs.Image(shape=(192, 192))\n",
    "label = gr.outputs.Label()\n",
    "examples = ['dog.jpg', 'cat.jpg', 'dunno.jpg']"
   ]
  },
  {
   "cell_type": "code",
   "execution_count": 20,
   "id": "0fb95c5b",
   "metadata": {},
   "outputs": [],
   "source": [
    "intf = gr.Interface(fn=classify_image, inputs=image, outputs=label, examples=examples)"
   ]
  },
  {
   "cell_type": "code",
   "execution_count": 21,
   "id": "fb5874eb",
   "metadata": {},
   "outputs": [
    {
     "name": "stdout",
     "output_type": "stream",
     "text": [
      "Running on local URL:  http://127.0.0.1:7860\n",
      "\n",
      "To create a public link, set `share=True` in `launch()`.\n"
     ]
    },
    {
     "data": {
      "text/plain": [
       "(<gradio.routes.App at 0x1add1c00670>, 'http://127.0.0.1:7860/', None)"
      ]
     },
     "execution_count": 21,
     "metadata": {},
     "output_type": "execute_result"
    },
    {
     "data": {
      "text/html": [
       "\n",
       "<style>\n",
       "    /* Turns off some styling */\n",
       "    progress {\n",
       "        /* gets rid of default border in Firefox and Opera. */\n",
       "        border: none;\n",
       "        /* Needs to be in here for Safari polyfill so background images work as expected. */\n",
       "        background-size: auto;\n",
       "    }\n",
       "    progress:not([value]), progress:not([value])::-webkit-progress-bar {\n",
       "        background: repeating-linear-gradient(45deg, #7e7e7e, #7e7e7e 10px, #5c5c5c 10px, #5c5c5c 20px);\n",
       "    }\n",
       "    .progress-bar-interrupted, .progress-bar-interrupted::-webkit-progress-bar {\n",
       "        background: #F44336;\n",
       "    }\n",
       "</style>\n"
      ],
      "text/plain": [
       "<IPython.core.display.HTML object>"
      ]
     },
     "metadata": {},
     "output_type": "display_data"
    },
    {
     "data": {
      "text/html": [],
      "text/plain": [
       "<IPython.core.display.HTML object>"
      ]
     },
     "metadata": {},
     "output_type": "display_data"
    },
    {
     "data": {
      "text/html": [
       "\n",
       "<style>\n",
       "    /* Turns off some styling */\n",
       "    progress {\n",
       "        /* gets rid of default border in Firefox and Opera. */\n",
       "        border: none;\n",
       "        /* Needs to be in here for Safari polyfill so background images work as expected. */\n",
       "        background-size: auto;\n",
       "    }\n",
       "    progress:not([value]), progress:not([value])::-webkit-progress-bar {\n",
       "        background: repeating-linear-gradient(45deg, #7e7e7e, #7e7e7e 10px, #5c5c5c 10px, #5c5c5c 20px);\n",
       "    }\n",
       "    .progress-bar-interrupted, .progress-bar-interrupted::-webkit-progress-bar {\n",
       "        background: #F44336;\n",
       "    }\n",
       "</style>\n"
      ],
      "text/plain": [
       "<IPython.core.display.HTML object>"
      ]
     },
     "metadata": {},
     "output_type": "display_data"
    },
    {
     "data": {
      "text/html": [],
      "text/plain": [
       "<IPython.core.display.HTML object>"
      ]
     },
     "metadata": {},
     "output_type": "display_data"
    },
    {
     "data": {
      "text/html": [
       "\n",
       "<style>\n",
       "    /* Turns off some styling */\n",
       "    progress {\n",
       "        /* gets rid of default border in Firefox and Opera. */\n",
       "        border: none;\n",
       "        /* Needs to be in here for Safari polyfill so background images work as expected. */\n",
       "        background-size: auto;\n",
       "    }\n",
       "    progress:not([value]), progress:not([value])::-webkit-progress-bar {\n",
       "        background: repeating-linear-gradient(45deg, #7e7e7e, #7e7e7e 10px, #5c5c5c 10px, #5c5c5c 20px);\n",
       "    }\n",
       "    .progress-bar-interrupted, .progress-bar-interrupted::-webkit-progress-bar {\n",
       "        background: #F44336;\n",
       "    }\n",
       "</style>\n"
      ],
      "text/plain": [
       "<IPython.core.display.HTML object>"
      ]
     },
     "metadata": {},
     "output_type": "display_data"
    },
    {
     "data": {
      "text/html": [],
      "text/plain": [
       "<IPython.core.display.HTML object>"
      ]
     },
     "metadata": {},
     "output_type": "display_data"
    }
   ],
   "source": [
    "intf.launch(inline=False)"
   ]
  },
  {
   "cell_type": "code",
   "execution_count": 25,
   "id": "37fbae96",
   "metadata": {},
   "outputs": [
    {
     "ename": "ImportError",
     "evalue": "cannot import name 'notebook2script' from 'nbdev.export' (C:\\Users\\Andrew Roz\\AppData\\Roaming\\Python\\Python310\\site-packages\\nbdev\\export.py)",
     "output_type": "error",
     "traceback": [
      "\u001b[1;31m---------------------------------------------------------------------------\u001b[0m",
      "\u001b[1;31mImportError\u001b[0m                               Traceback (most recent call last)",
      "Cell \u001b[1;32mIn [25], line 1\u001b[0m\n\u001b[1;32m----> 1\u001b[0m \u001b[38;5;28;01mfrom\u001b[39;00m \u001b[38;5;21;01mnbdev\u001b[39;00m\u001b[38;5;21;01m.\u001b[39;00m\u001b[38;5;21;01mexport\u001b[39;00m \u001b[38;5;28;01mimport\u001b[39;00m notebook2script\n",
      "\u001b[1;31mImportError\u001b[0m: cannot import name 'notebook2script' from 'nbdev.export' (C:\\Users\\Andrew Roz\\AppData\\Roaming\\Python\\Python310\\site-packages\\nbdev\\export.py)"
     ]
    }
   ],
   "source": [
    "from nbdev.export import notebook2script"
   ]
  },
  {
   "cell_type": "code",
   "execution_count": 23,
   "id": "2924972d",
   "metadata": {},
   "outputs": [
    {
     "name": "stdout",
     "output_type": "stream",
     "text": [
      "Defaulting to user installation because normal site-packages is not writeable\n",
      "Collecting nbdev\n",
      "  Downloading nbdev-2.3.6-py3-none-any.whl (63 kB)\n",
      "     -------------------------------------- 64.0/64.0 kB 866.8 kB/s eta 0:00:00\n",
      "Collecting astunparse\n",
      "  Downloading astunparse-1.6.3-py2.py3-none-any.whl (12 kB)\n",
      "Requirement already satisfied: asttokens in c:\\users\\andrew roz\\appdata\\roaming\\python\\python310\\site-packages (from nbdev) (2.0.8)\n",
      "Requirement already satisfied: fastcore>=1.5.27 in c:\\users\\andrew roz\\appdata\\roaming\\python\\python310\\site-packages (from nbdev) (1.5.27)\n",
      "Collecting watchdog\n",
      "  Downloading watchdog-2.1.9-py3-none-win_amd64.whl (78 kB)\n",
      "     ---------------------------------------- 78.4/78.4 kB 1.1 MB/s eta 0:00:00\n",
      "Requirement already satisfied: PyYAML in c:\\users\\andrew roz\\appdata\\roaming\\python\\python310\\site-packages (from nbdev) (6.0)\n",
      "Collecting execnb>=0.1.3\n",
      "  Downloading execnb-0.1.3-py3-none-any.whl (13 kB)\n",
      "Collecting ghapi>=1.0.3\n",
      "  Downloading ghapi-1.0.3-py3-none-any.whl (58 kB)\n",
      "     -------------------------------------- 58.1/58.1 kB 508.9 kB/s eta 0:00:00\n",
      "Requirement already satisfied: ipython in c:\\users\\andrew roz\\appdata\\roaming\\python\\python310\\site-packages (from execnb>=0.1.3->nbdev) (8.5.0)\n",
      "Requirement already satisfied: packaging in c:\\users\\andrew roz\\appdata\\roaming\\python\\python310\\site-packages (from fastcore>=1.5.27->nbdev) (21.3)\n",
      "Requirement already satisfied: pip in c:\\program files\\python310\\lib\\site-packages (from fastcore>=1.5.27->nbdev) (22.2.2)\n",
      "Requirement already satisfied: six in c:\\users\\andrew roz\\appdata\\roaming\\python\\python310\\site-packages (from asttokens->nbdev) (1.16.0)\n",
      "Collecting wheel<1.0,>=0.23.0\n",
      "  Downloading wheel-0.37.1-py2.py3-none-any.whl (35 kB)\n",
      "Requirement already satisfied: prompt-toolkit<3.1.0,>3.0.1 in c:\\users\\andrew roz\\appdata\\roaming\\python\\python310\\site-packages (from ipython->execnb>=0.1.3->nbdev) (3.0.31)\n",
      "Requirement already satisfied: pygments>=2.4.0 in c:\\users\\andrew roz\\appdata\\roaming\\python\\python310\\site-packages (from ipython->execnb>=0.1.3->nbdev) (2.13.0)\n",
      "Requirement already satisfied: colorama in c:\\users\\andrew roz\\appdata\\roaming\\python\\python310\\site-packages (from ipython->execnb>=0.1.3->nbdev) (0.4.5)\n",
      "Requirement already satisfied: jedi>=0.16 in c:\\users\\andrew roz\\appdata\\roaming\\python\\python310\\site-packages (from ipython->execnb>=0.1.3->nbdev) (0.18.1)\n",
      "Requirement already satisfied: backcall in c:\\users\\andrew roz\\appdata\\roaming\\python\\python310\\site-packages (from ipython->execnb>=0.1.3->nbdev) (0.2.0)\n",
      "Requirement already satisfied: pickleshare in c:\\users\\andrew roz\\appdata\\roaming\\python\\python310\\site-packages (from ipython->execnb>=0.1.3->nbdev) (0.7.5)\n",
      "Requirement already satisfied: decorator in c:\\users\\andrew roz\\appdata\\roaming\\python\\python310\\site-packages (from ipython->execnb>=0.1.3->nbdev) (5.1.1)\n",
      "Requirement already satisfied: matplotlib-inline in c:\\users\\andrew roz\\appdata\\roaming\\python\\python310\\site-packages (from ipython->execnb>=0.1.3->nbdev) (0.1.6)\n",
      "Requirement already satisfied: stack-data in c:\\users\\andrew roz\\appdata\\roaming\\python\\python310\\site-packages (from ipython->execnb>=0.1.3->nbdev) (0.5.0)\n",
      "Requirement already satisfied: traitlets>=5 in c:\\users\\andrew roz\\appdata\\roaming\\python\\python310\\site-packages (from ipython->execnb>=0.1.3->nbdev) (5.4.0)\n",
      "Requirement already satisfied: pyparsing!=3.0.5,>=2.0.2 in c:\\users\\andrew roz\\appdata\\roaming\\python\\python310\\site-packages (from packaging->fastcore>=1.5.27->nbdev) (3.0.9)\n",
      "Requirement already satisfied: parso<0.9.0,>=0.8.0 in c:\\users\\andrew roz\\appdata\\roaming\\python\\python310\\site-packages (from jedi>=0.16->ipython->execnb>=0.1.3->nbdev) (0.8.3)\n",
      "Requirement already satisfied: wcwidth in c:\\users\\andrew roz\\appdata\\roaming\\python\\python310\\site-packages (from prompt-toolkit<3.1.0,>3.0.1->ipython->execnb>=0.1.3->nbdev) (0.2.5)\n",
      "Requirement already satisfied: executing in c:\\users\\andrew roz\\appdata\\roaming\\python\\python310\\site-packages (from stack-data->ipython->execnb>=0.1.3->nbdev) (1.0.0)\n",
      "Requirement already satisfied: pure-eval in c:\\users\\andrew roz\\appdata\\roaming\\python\\python310\\site-packages (from stack-data->ipython->execnb>=0.1.3->nbdev) (0.2.2)\n",
      "Installing collected packages: wheel, watchdog, astunparse, ghapi, execnb, nbdev\n",
      "Successfully installed astunparse-1.6.3 execnb-0.1.3 ghapi-1.0.3 nbdev-2.3.6 watchdog-2.1.9 wheel-0.37.1\n",
      "Note: you may need to restart the kernel to use updated packages.\n"
     ]
    },
    {
     "name": "stderr",
     "output_type": "stream",
     "text": [
      "  WARNING: The script wheel.exe is installed in 'C:\\Users\\Andrew Roz\\AppData\\Roaming\\Python\\Python310\\Scripts' which is not on PATH.\n",
      "  Consider adding this directory to PATH or, if you prefer to suppress this warning, use --no-warn-script-location.\n",
      "  WARNING: The script watchmedo.exe is installed in 'C:\\Users\\Andrew Roz\\AppData\\Roaming\\Python\\Python310\\Scripts' which is not on PATH.\n",
      "  Consider adding this directory to PATH or, if you prefer to suppress this warning, use --no-warn-script-location.\n",
      "  WARNING: The scripts completion-ghapi.exe, gh-create-workflow.exe, ghapi.exe, ghpath.exe and ghraw.exe are installed in 'C:\\Users\\Andrew Roz\\AppData\\Roaming\\Python\\Python310\\Scripts' which is not on PATH.\n",
      "  Consider adding this directory to PATH or, if you prefer to suppress this warning, use --no-warn-script-location.\n",
      "  WARNING: The script exec_nb.exe is installed in 'C:\\Users\\Andrew Roz\\AppData\\Roaming\\Python\\Python310\\Scripts' which is not on PATH.\n",
      "  Consider adding this directory to PATH or, if you prefer to suppress this warning, use --no-warn-script-location.\n",
      "  WARNING: The scripts nbdev_bump_version.exe, nbdev_changelog.exe, nbdev_clean.exe, nbdev_conda.exe, nbdev_create_config.exe, nbdev_docs.exe, nbdev_export.exe, nbdev_filter.exe, nbdev_fix.exe, nbdev_help.exe, nbdev_install.exe, nbdev_install_hooks.exe, nbdev_install_quarto.exe, nbdev_merge.exe, nbdev_migrate.exe, nbdev_new.exe, nbdev_prepare.exe, nbdev_preview.exe, nbdev_proc_nbs.exe, nbdev_pypi.exe, nbdev_readme.exe, nbdev_release_both.exe, nbdev_release_gh.exe, nbdev_release_git.exe, nbdev_sidebar.exe, nbdev_test.exe, nbdev_trust.exe and nbdev_update.exe are installed in 'C:\\Users\\Andrew Roz\\AppData\\Roaming\\Python\\Python310\\Scripts' which is not on PATH.\n",
      "  Consider adding this directory to PATH or, if you prefer to suppress this warning, use --no-warn-script-location.\n"
     ]
    }
   ],
   "source": [
    "pip install nbdev"
   ]
  },
  {
   "cell_type": "code",
   "execution_count": null,
   "id": "2f84cfae",
   "metadata": {},
   "outputs": [],
   "source": []
  }
 ],
 "metadata": {
  "kernelspec": {
   "display_name": "Python 3 (ipykernel)",
   "language": "python",
   "name": "python3"
  },
  "language_info": {
   "codemirror_mode": {
    "name": "ipython",
    "version": 3
   },
   "file_extension": ".py",
   "mimetype": "text/x-python",
   "name": "python",
   "nbconvert_exporter": "python",
   "pygments_lexer": "ipython3",
   "version": "3.10.7"
  }
 },
 "nbformat": 4,
 "nbformat_minor": 5
}
